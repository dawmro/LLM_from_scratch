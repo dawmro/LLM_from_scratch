{
 "cells": [
  {
   "cell_type": "code",
   "execution_count": 17,
   "id": "2ec10320-8ab8-42fc-8163-55768cab6742",
   "metadata": {},
   "outputs": [],
   "source": [
    "import os\n",
    "import lzma\n",
    "from tqdm import tqdm"
   ]
  },
  {
   "cell_type": "code",
   "execution_count": 18,
   "id": "66089e72-420a-4a23-9911-bad6f8ee8851",
   "metadata": {},
   "outputs": [],
   "source": [
    "def xz_files_in_dir(directory):\n",
    "    files = []\n",
    "    for filename in os.listdir(directory):\n",
    "        if filename.endswith(\".xz\") and os.path.isfile(os.path.join(directory, filename)):\n",
    "            files.append(filename)\n",
    "    return files"
   ]
  },
  {
   "cell_type": "code",
   "execution_count": 19,
   "id": "33c3f360-92ef-4d1b-9b20-2efb9c853385",
   "metadata": {},
   "outputs": [],
   "source": [
    "folder_path = \"openwebtext\"\n",
    "output_file_train = \"output_train.txt\"\n",
    "output_file_val = \"output_val.txt\"\n",
    "vocab_file = \"vocab.txt\"\n"
   ]
  },
  {
   "cell_type": "code",
   "execution_count": 20,
   "id": "6d862c81-227a-4131-a8d4-0138d7a41a26",
   "metadata": {},
   "outputs": [
    {
     "name": "stdout",
     "output_type": "stream",
     "text": [
      "20610\n"
     ]
    }
   ],
   "source": [
    "files = xz_files_in_dir(folder_path)\n",
    "total_files = len(files)\n",
    "print(total_files)"
   ]
  },
  {
   "cell_type": "code",
   "execution_count": 21,
   "id": "3e8c5095-f5e6-4f29-94ad-4986a138e8ae",
   "metadata": {},
   "outputs": [],
   "source": [
    "split_index = int(total_files *0.9)\n",
    "files_train = files[:split_index]\n",
    "files_val = files[split_index:]"
   ]
  },
  {
   "cell_type": "code",
   "execution_count": 23,
   "id": "54d35de6-906c-4e3a-ab7e-1d235bad53ec",
   "metadata": {},
   "outputs": [
    {
     "name": "stderr",
     "output_type": "stream",
     "text": [
      "100%|███████████████████████████████████████████████| 18549/18549 [23:14<00:00, 13.30it/s]\n",
      "100%|█████████████████████████████████████████████████| 2061/2061 [03:01<00:00, 11.34it/s]\n"
     ]
    }
   ],
   "source": [
    "vocab = set()\n",
    "\n",
    "# process train files\n",
    "with open(output_file_train, \"w\", encoding=\"utf-8\") as outfile:\n",
    "    for filename in tqdm(files_train, total=len(files_train)):\n",
    "        file_path = os.path.join(folder_path, filename)\n",
    "        with lzma.open(file_path, \"rt\", encoding=\"utf-8\") as infile:\n",
    "            text = infile.read()\n",
    "            outfile.write(text)\n",
    "            characters = set(text)\n",
    "            vocab.update(characters)\n",
    "\n",
    "\n",
    "# process val files\n",
    "with open(output_file_val, \"w\", encoding=\"utf-8\") as outfile:\n",
    "    for filename in tqdm(files_val, total=len(files_val)):\n",
    "        file_path = os.path.join(folder_path, filename)\n",
    "        with lzma.open(file_path, \"rt\", encoding=\"utf-8\") as infile:\n",
    "            text = infile.read()\n",
    "            outfile.write(text)\n",
    "            characters = set(text)\n",
    "            vocab.update(characters)\n",
    "\n",
    "\n",
    "# write vocabulary to file\n",
    "with open(vocab_file, \"w\", encoding=\"utf-8\") as vfile:\n",
    "    for char in vocab:\n",
    "        vfile.write(char + '\\n')\n",
    "        "
   ]
  },
  {
   "cell_type": "code",
   "execution_count": null,
   "id": "7c19a36d-cc78-40c3-87d0-3d78ba7f8649",
   "metadata": {},
   "outputs": [],
   "source": []
  },
  {
   "cell_type": "code",
   "execution_count": null,
   "id": "2c4ff6c3-9889-4541-96d2-0f72cb657b04",
   "metadata": {},
   "outputs": [],
   "source": []
  }
 ],
 "metadata": {
  "kernelspec": {
   "display_name": "cuda-gpt",
   "language": "python",
   "name": "cuda"
  },
  "language_info": {
   "codemirror_mode": {
    "name": "ipython",
    "version": 3
   },
   "file_extension": ".py",
   "mimetype": "text/x-python",
   "name": "python",
   "nbconvert_exporter": "python",
   "pygments_lexer": "ipython3",
   "version": "3.10.6"
  }
 },
 "nbformat": 4,
 "nbformat_minor": 5
}
