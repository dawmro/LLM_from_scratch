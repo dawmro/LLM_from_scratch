{
 "cells": [
  {
   "cell_type": "code",
   "execution_count": 26,
   "id": "a15f4ce9-8850-4820-8628-aa419e777b95",
   "metadata": {},
   "outputs": [],
   "source": [
    "import torch\n",
    "import torch.nn as nn\n",
    "from torch.nn import functional as F"
   ]
  },
  {
   "cell_type": "code",
   "execution_count": 48,
   "id": "c029a25e-94cb-48f8-ae1e-2234c373dc37",
   "metadata": {},
   "outputs": [
    {
     "name": "stdout",
     "output_type": "stream",
     "text": [
      "cuda\n"
     ]
    }
   ],
   "source": [
    "device = \"cuda\" if torch.cuda.is_available() else \"cpu\"\n",
    "print(device)\n",
    "block_size = 8\n",
    "batch_size = 4\n",
    "max_iters = 10000\n",
    "learning_rate = 3e-4"
   ]
  },
  {
   "cell_type": "code",
   "execution_count": 27,
   "id": "a227161e-b979-4565-86c0-99bddce49b14",
   "metadata": {},
   "outputs": [
    {
     "name": "stdout",
     "output_type": "stream",
     "text": [
      "['\\n', ' ', '!', '\"', '&', \"'\", '(', ')', '*', ',', '-', '.', '0', '1', '2', '3', '4', '5', '6', '7', '8', '9', ':', ';', '?', 'A', 'B', 'C', 'D', 'E', 'F', 'G', 'H', 'I', 'J', 'K', 'L', 'M', 'N', 'O', 'P', 'Q', 'R', 'S', 'T', 'U', 'V', 'W', 'X', 'Y', 'Z', '[', ']', '_', 'a', 'b', 'c', 'd', 'e', 'f', 'g', 'h', 'i', 'j', 'k', 'l', 'm', 'n', 'o', 'p', 'q', 'r', 's', 't', 'u', 'v', 'w', 'x', 'y', 'z', '\\ufeff']\n",
      "vocabulary_size: 81\n"
     ]
    }
   ],
   "source": [
    "with open(\"wizard_of_oz.txt\", \"r\", encoding=\"utf-8\") as f:\n",
    "    text = f.read()\n",
    "    \n",
    "# get characters that appear in text    \n",
    "chars = sorted(set(text))\n",
    "print(chars)\n",
    "vocab_size = len(chars)\n",
    "print(f\"vocabulary_size: {vocab_size}\")"
   ]
  },
  {
   "cell_type": "code",
   "execution_count": 28,
   "id": "bf4cac95-d251-444b-b54b-0eea094bad2f",
   "metadata": {},
   "outputs": [],
   "source": [
    "# tokenizer\n",
    "# map from str to int and int to str\n",
    "string_to_int = {ch:i for i,ch in enumerate(chars)}\n",
    "int_to_string = {i:ch for i,ch in enumerate(chars)}\n",
    "\n",
    "encode = lambda s: [string_to_int[c] for c in s]\n",
    "decode = lambda l: ''.join([int_to_string[i] for i in l])"
   ]
  },
  {
   "cell_type": "code",
   "execution_count": 29,
   "id": "2bd628a2-0636-42bf-920a-144990a82706",
   "metadata": {},
   "outputs": [
    {
     "name": "stdout",
     "output_type": "stream",
     "text": [
      "tensor([80,  0,  1,  1, 28, 39, 42, 39, 44, 32, 49,  1, 25, 38, 28,  1, 44, 32,\n",
      "        29,  1, 47, 33, 50, 25, 42, 28,  1, 33, 38,  1, 39, 50,  0,  0,  1,  1,\n",
      "        26, 49,  0,  0,  1,  1, 36, 11,  1, 30, 42, 25, 38, 35,  1, 26, 25, 45,\n",
      "        37,  0,  0,  1,  1, 25, 45, 44, 32, 39, 42,  1, 39, 30,  1, 44, 32, 29,\n",
      "         1, 47, 33, 50, 25, 42, 28,  1, 39, 30,  1, 39, 50,  9,  1, 44, 32, 29,\n",
      "         1, 36, 25, 38, 28,  1, 39, 30,  1, 39])\n"
     ]
    }
   ],
   "source": [
    "data = torch.tensor(encode(text), dtype=torch.long) \n",
    "print(data[:100])"
   ]
  },
  {
   "cell_type": "code",
   "execution_count": 30,
   "id": "3baee9dd-8596-4f76-a18a-794c8a55b67f",
   "metadata": {},
   "outputs": [],
   "source": [
    "# train and validation split\n",
    "n = int(0.8*len(data))\n",
    "train_data = data[:n]\n",
    "val_data = data[n:]"
   ]
  },
  {
   "cell_type": "code",
   "execution_count": 51,
   "id": "2b834b5f-af31-433c-a785-1f0dfa8d326f",
   "metadata": {},
   "outputs": [
    {
     "name": "stdout",
     "output_type": "stream",
     "text": [
      "Inputs: \n",
      "tensor([[72,  1, 72, 61, 58,  1, 65, 68],\n",
      "        [78, 68, 74,  1, 56, 54, 65, 65],\n",
      "        [ 1,  1,  1,  1,  1,  1,  1,  1],\n",
      "        [74, 58, 58, 71,  1, 65, 62, 60]], device='cuda:0')\n",
      "Targets: \n",
      "tensor([[ 1, 72, 61, 58,  1, 65, 68, 68],\n",
      "        [68, 74,  1, 56, 54, 65, 65,  1],\n",
      "        [ 1,  1,  1,  1,  1,  1,  1,  1],\n",
      "        [58, 58, 71,  1, 65, 62, 60, 61]], device='cuda:0')\n"
     ]
    }
   ],
   "source": [
    "def get_batch(split):\n",
    "    data = train_data if split == \"train\" else val_data\n",
    "    ix = torch.randint(len(data) - block_size, (batch_size,))\n",
    "    #print(ix)\n",
    "    x = torch.stack([data[i:i+block_size] for i in ix])\n",
    "    y = torch.stack([data[i+1:i+block_size+1] for i in ix])\n",
    "    x,y = x.to(device), y.to(device)\n",
    "    return x,y\n",
    "\n",
    "x,y = get_batch(\"train\")\n",
    "print(f\"Inputs: \\n{x}\")\n",
    "print(f\"Targets: \\n{y}\")"
   ]
  },
  {
   "cell_type": "code",
   "execution_count": 21,
   "id": "71b7bc77-2e20-49b1-b322-70ccdefe2896",
   "metadata": {},
   "outputs": [
    {
     "name": "stdout",
     "output_type": "stream",
     "text": [
      "when input is tensor([80]), target is 0\n",
      "when input is tensor([80,  0]), target is 1\n",
      "when input is tensor([80,  0,  1]), target is 1\n",
      "when input is tensor([80,  0,  1,  1]), target is 28\n",
      "when input is tensor([80,  0,  1,  1, 28]), target is 39\n",
      "when input is tensor([80,  0,  1,  1, 28, 39]), target is 42\n",
      "when input is tensor([80,  0,  1,  1, 28, 39, 42]), target is 39\n",
      "when input is tensor([80,  0,  1,  1, 28, 39, 42, 39]), target is 44\n"
     ]
    }
   ],
   "source": [
    "# inputs and targets\n",
    "x = train_data[:block_size]\n",
    "y = train_data[1:block_size+1]\n",
    "\n",
    "for t in range(block_size):\n",
    "    context = x[:t+1]\n",
    "    target = y[t]\n",
    "    print(f\"when input is {context}, target is {target}\")"
   ]
  },
  {
   "cell_type": "code",
   "execution_count": 41,
   "id": "12fb4c65-73b5-4471-9206-e3831ebe6122",
   "metadata": {},
   "outputs": [],
   "source": [
    "class BigramLanguageModel(nn.Module):\n",
    "    def __init__(self, vocab_size):\n",
    "        super().__init__()\n",
    "        self.token_embeding_table = nn.Embedding(vocab_size, vocab_size)\n",
    "\n",
    "    \n",
    "    def forward(self, index, targets=None):\n",
    "        logits = self.token_embeding_table(index)\n",
    "\n",
    "        if targets is None:\n",
    "            loss = None\n",
    "        else:\n",
    "            # batch, time, channel\n",
    "            B, T, C = logits.shape\n",
    "            logits = logits.view(B*T, C)\n",
    "            targets = targets.view(B*T)\n",
    "            loss = F.cross_entropy(logits, targets)\n",
    "            \n",
    "        return logits, loss\n",
    "\n",
    "    \n",
    "    def generate(self, index, max_new_tokens):\n",
    "        # index is (B,T) array of idices in the current context\n",
    "        for _ in range(max_new_tokens):\n",
    "            # get predictions\n",
    "            logits, loss = self.forward(index)\n",
    "            # focus only on the last time step\n",
    "            logits = logits[:, -1, :] # becomes (B,C)\n",
    "            # apply softmax to get probabilities\n",
    "            probs = F.softmax(logits, dim=-1) # (B,C)\n",
    "            # sample from distribution\n",
    "            index_next = torch.multinomial(probs, num_samples=1) # (B,1)\n",
    "            # append sampled index to running sequence\n",
    "            index = torch.cat((index, index_next), dim=1) # (B,T+1)\n",
    "            \n",
    "        return index"
   ]
  },
  {
   "cell_type": "code",
   "execution_count": 44,
   "id": "768a4823-53ea-4edc-948c-2b921c300dfe",
   "metadata": {},
   "outputs": [
    {
     "name": "stdout",
     "output_type": "stream",
     "text": [
      "\n",
      "AUn9NQFo\n",
      "PI[3[z&'kM5f_4mE7n)o3E'eFjxh.Pm,9QL'U1?wSqG2Ab7CMBw,Eq\n",
      "cct1c_tERh9I'if;v-ehzA.7Fp-N ,iR2H3vukKprh:A﻿F-47t?ajg?gR\"no\n",
      "ND\n",
      "aFzLxa' ?(MEZ?Tt09iPU_]Xex8pqGOa_\n",
      "L](ggRBf94MjhURZjDp9HSf&O'I-;v(kv3[JGl4-&KBSjO_DzxEXwBqNURe2dE1D[l_.7_zfTG;﻿WKRVOxKOhW﻿2VOtvk-g9a)'o7npg9kpmUM] 4MX?9HS*hl9n\"ns6qogiW90n9CpPd8*jN tonA0s5rR;F T[vv r&\"s5VY7:&G5grhMEWA;H3z:dgVY2﻿g :5V;gRZex-XL]M﻿4BabnBRMB3L2v?&gRe]qvl \"J4-a;IRe\"nAYbTYgJYh]mCL\"\"*JZ\n",
      "jF'i? ;8,9(QsX)K7T[n7n?_3Kebqj,aV[zxeiC)[Dipe:ApmIenk\"&,dbYJ4Ttxqvl7pq:﻿qVd\n"
     ]
    }
   ],
   "source": [
    "model = BigramLanguageModel(vocab_size)\n",
    "m = model.to(device)\n",
    "\n",
    "context = torch.zeros((1,1), dtype=torch.long, device=device)\n",
    "generated_chars = decode(m.generate(context, max_new_tokens=500)[0].tolist())\n",
    "print(generated_chars)"
   ]
  },
  {
   "cell_type": "code",
   "execution_count": 55,
   "id": "96d49ca0-22ed-475d-8387-db2c16699f29",
   "metadata": {},
   "outputs": [
    {
     "name": "stdout",
     "output_type": "stream",
     "text": [
      "2.3027405738830566\n"
     ]
    }
   ],
   "source": [
    "# create optimizer\n",
    "optimizer = torch.optim.AdamW(model.parameters(), lr=learning_rate)\n",
    "\n",
    "# training loop\n",
    "for iter in range(max_iters):\n",
    "    # sample batch of data\n",
    "    xb, yb =  get_batch(\"train\")\n",
    "\n",
    "    #evaluate the loss\n",
    "    logits, loss = model.forward(xb, yb)\n",
    "    optimizer.zero_grad(set_to_none=True)\n",
    "    loss.backward()\n",
    "    optimizer.step()\n",
    "print(loss.item())"
   ]
  },
  {
   "cell_type": "code",
   "execution_count": 56,
   "id": "de0cb5ad-b5c5-467a-9a9a-ab4626c17513",
   "metadata": {},
   "outputs": [
    {
     "name": "stdout",
     "output_type": "stream",
     "text": [
      "\n",
      "\n",
      "croo haswh thewe mu'st trpy, ane wait abin Oheng as ouse ind tasiggine.\n",
      "\n",
      "\"Whe fattt o s thie rre gudndive ftopofrea, yofe hy, lineceoft cor.\n",
      "\n",
      "ta a thorth\n",
      "\n",
      "awirmoug BAPatind wher Jire'sarishe be baimed:comut thored,\n",
      "\n",
      "re te hy inyoige 'swe t onscok rclig un t wean wf thecuthkeanoo fr; ce ing bors te  f idrd heirar bo aimofr hem. cace alld at bl spor ITharevewe ms ve S.\n",
      "\n",
      "Doknsporewhede cose beakeno ld maraiverin, d am res ngyodeling wacemathe G_kanse n l o mey tsce adizaf try. PGOOZey mepe allousc\n"
     ]
    }
   ],
   "source": [
    "context = torch.zeros((1,1), dtype=torch.long, device=device)\n",
    "generated_chars = decode(m.generate(context, max_new_tokens=500)[0].tolist())\n",
    "print(generated_chars)"
   ]
  },
  {
   "cell_type": "code",
   "execution_count": null,
   "id": "9558ecf8-3e48-4328-8368-f47d65ac265a",
   "metadata": {},
   "outputs": [],
   "source": []
  }
 ],
 "metadata": {
  "kernelspec": {
   "display_name": "Python 3 (ipykernel)",
   "language": "python",
   "name": "python3"
  },
  "language_info": {
   "codemirror_mode": {
    "name": "ipython",
    "version": 3
   },
   "file_extension": ".py",
   "mimetype": "text/x-python",
   "name": "python",
   "nbconvert_exporter": "python",
   "pygments_lexer": "ipython3",
   "version": "3.10.6"
  }
 },
 "nbformat": 4,
 "nbformat_minor": 5
}
