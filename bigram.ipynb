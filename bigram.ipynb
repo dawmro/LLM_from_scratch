{
 "cells": [
  {
   "cell_type": "code",
   "execution_count": 59,
   "id": "a15f4ce9-8850-4820-8628-aa419e777b95",
   "metadata": {},
   "outputs": [],
   "source": [
    "import torch\n",
    "import torch.nn as nn\n",
    "from torch.nn import functional as F"
   ]
  },
  {
   "cell_type": "code",
   "execution_count": 60,
   "id": "c029a25e-94cb-48f8-ae1e-2234c373dc37",
   "metadata": {},
   "outputs": [
    {
     "name": "stdout",
     "output_type": "stream",
     "text": [
      "cuda\n"
     ]
    }
   ],
   "source": [
    "device = \"cuda\" if torch.cuda.is_available() else \"cpu\"\n",
    "print(device)\n",
    "block_size = 8\n",
    "batch_size = 4\n",
    "max_iters = 10000\n",
    "learning_rate = 3e-4\n",
    "eval_iters = 250"
   ]
  },
  {
   "cell_type": "code",
   "execution_count": 61,
   "id": "a227161e-b979-4565-86c0-99bddce49b14",
   "metadata": {},
   "outputs": [
    {
     "name": "stdout",
     "output_type": "stream",
     "text": [
      "['\\n', ' ', '!', '\"', '&', \"'\", '(', ')', '*', ',', '-', '.', '0', '1', '2', '3', '4', '5', '6', '7', '8', '9', ':', ';', '?', 'A', 'B', 'C', 'D', 'E', 'F', 'G', 'H', 'I', 'J', 'K', 'L', 'M', 'N', 'O', 'P', 'Q', 'R', 'S', 'T', 'U', 'V', 'W', 'X', 'Y', 'Z', '[', ']', '_', 'a', 'b', 'c', 'd', 'e', 'f', 'g', 'h', 'i', 'j', 'k', 'l', 'm', 'n', 'o', 'p', 'q', 'r', 's', 't', 'u', 'v', 'w', 'x', 'y', 'z', '\\ufeff']\n",
      "vocabulary_size: 81\n"
     ]
    }
   ],
   "source": [
    "with open(\"wizard_of_oz.txt\", \"r\", encoding=\"utf-8\") as f:\n",
    "    text = f.read()\n",
    "    \n",
    "# get characters that appear in text    \n",
    "chars = sorted(set(text))\n",
    "print(chars)\n",
    "vocab_size = len(chars)\n",
    "print(f\"vocabulary_size: {vocab_size}\")"
   ]
  },
  {
   "cell_type": "code",
   "execution_count": 62,
   "id": "bf4cac95-d251-444b-b54b-0eea094bad2f",
   "metadata": {},
   "outputs": [],
   "source": [
    "# tokenizer\n",
    "# map from str to int and int to str\n",
    "string_to_int = {ch:i for i,ch in enumerate(chars)}\n",
    "int_to_string = {i:ch for i,ch in enumerate(chars)}\n",
    "\n",
    "encode = lambda s: [string_to_int[c] for c in s]\n",
    "decode = lambda l: ''.join([int_to_string[i] for i in l])"
   ]
  },
  {
   "cell_type": "code",
   "execution_count": 63,
   "id": "2bd628a2-0636-42bf-920a-144990a82706",
   "metadata": {},
   "outputs": [
    {
     "name": "stdout",
     "output_type": "stream",
     "text": [
      "tensor([80,  0,  1,  1, 28, 39, 42, 39, 44, 32, 49,  1, 25, 38, 28,  1, 44, 32,\n",
      "        29,  1, 47, 33, 50, 25, 42, 28,  1, 33, 38,  1, 39, 50,  0,  0,  1,  1,\n",
      "        26, 49,  0,  0,  1,  1, 36, 11,  1, 30, 42, 25, 38, 35,  1, 26, 25, 45,\n",
      "        37,  0,  0,  1,  1, 25, 45, 44, 32, 39, 42,  1, 39, 30,  1, 44, 32, 29,\n",
      "         1, 47, 33, 50, 25, 42, 28,  1, 39, 30,  1, 39, 50,  9,  1, 44, 32, 29,\n",
      "         1, 36, 25, 38, 28,  1, 39, 30,  1, 39])\n"
     ]
    }
   ],
   "source": [
    "data = torch.tensor(encode(text), dtype=torch.long) \n",
    "print(data[:100])"
   ]
  },
  {
   "cell_type": "code",
   "execution_count": 64,
   "id": "3baee9dd-8596-4f76-a18a-794c8a55b67f",
   "metadata": {},
   "outputs": [],
   "source": [
    "# train and validation split\n",
    "n = int(0.8*len(data))\n",
    "train_data = data[:n]\n",
    "val_data = data[n:]"
   ]
  },
  {
   "cell_type": "code",
   "execution_count": 65,
   "id": "2b834b5f-af31-433c-a785-1f0dfa8d326f",
   "metadata": {},
   "outputs": [
    {
     "name": "stdout",
     "output_type": "stream",
     "text": [
      "Inputs: \n",
      "tensor([[ 3, 32, 58, 71, 58,  1, 62, 72],\n",
      "        [73, 61, 62, 72,  1, 62, 72,  9],\n",
      "        [54, 74, 72, 58,  1, 73, 61, 58],\n",
      "        [67, 73,  1, 54, 67, 57,  0, 54]], device='cuda:0')\n",
      "Targets: \n",
      "tensor([[32, 58, 71, 58,  1, 62, 72,  1],\n",
      "        [61, 62, 72,  1, 62, 72,  9,  3],\n",
      "        [74, 72, 58,  1, 73, 61, 58, 78],\n",
      "        [73,  1, 54, 67, 57,  0, 54,  1]], device='cuda:0')\n"
     ]
    }
   ],
   "source": [
    "def get_batch(split):\n",
    "    data = train_data if split == \"train\" else val_data\n",
    "    ix = torch.randint(len(data) - block_size, (batch_size,))\n",
    "    #print(ix)\n",
    "    x = torch.stack([data[i:i+block_size] for i in ix])\n",
    "    y = torch.stack([data[i+1:i+block_size+1] for i in ix])\n",
    "    x,y = x.to(device), y.to(device)\n",
    "    return x,y\n",
    "\n",
    "x,y = get_batch(\"train\")\n",
    "print(f\"Inputs: \\n{x}\")\n",
    "print(f\"Targets: \\n{y}\")"
   ]
  },
  {
   "cell_type": "code",
   "execution_count": 66,
   "id": "71b7bc77-2e20-49b1-b322-70ccdefe2896",
   "metadata": {},
   "outputs": [
    {
     "name": "stdout",
     "output_type": "stream",
     "text": [
      "when input is tensor([80]), target is 0\n",
      "when input is tensor([80,  0]), target is 1\n",
      "when input is tensor([80,  0,  1]), target is 1\n",
      "when input is tensor([80,  0,  1,  1]), target is 28\n",
      "when input is tensor([80,  0,  1,  1, 28]), target is 39\n",
      "when input is tensor([80,  0,  1,  1, 28, 39]), target is 42\n",
      "when input is tensor([80,  0,  1,  1, 28, 39, 42]), target is 39\n",
      "when input is tensor([80,  0,  1,  1, 28, 39, 42, 39]), target is 44\n"
     ]
    }
   ],
   "source": [
    "# inputs and targets\n",
    "x = train_data[:block_size]\n",
    "y = train_data[1:block_size+1]\n",
    "\n",
    "for t in range(block_size):\n",
    "    context = x[:t+1]\n",
    "    target = y[t]\n",
    "    print(f\"when input is {context}, target is {target}\")"
   ]
  },
  {
   "cell_type": "code",
   "execution_count": 67,
   "id": "db8d2e7a-35c0-4300-868d-2c9f10aa635f",
   "metadata": {},
   "outputs": [],
   "source": [
    "@torch.no_grad()\n",
    "def estimate_loss():\n",
    "    out = {}\n",
    "    model.eval()\n",
    "    for split in [\"train\", \"val\"]:\n",
    "        losses = torch.zeros(eval_iters)\n",
    "        for k in range(eval_iters):\n",
    "            X,Y = get_batch(split)\n",
    "            logits, loss = model(X, Y)\n",
    "            losses[k] = loss.item()\n",
    "        out[split] = losses.mean()\n",
    "    model.train()\n",
    "    return out"
   ]
  },
  {
   "cell_type": "code",
   "execution_count": 68,
   "id": "12fb4c65-73b5-4471-9206-e3831ebe6122",
   "metadata": {},
   "outputs": [],
   "source": [
    "class BigramLanguageModel(nn.Module):\n",
    "    def __init__(self, vocab_size):\n",
    "        super().__init__()\n",
    "        self.token_embeding_table = nn.Embedding(vocab_size, vocab_size)\n",
    "\n",
    "    \n",
    "    def forward(self, index, targets=None):\n",
    "        logits = self.token_embeding_table(index)\n",
    "\n",
    "        if targets is None:\n",
    "            loss = None\n",
    "        else:\n",
    "            # batch, time, channel\n",
    "            B, T, C = logits.shape\n",
    "            logits = logits.view(B*T, C)\n",
    "            targets = targets.view(B*T)\n",
    "            loss = F.cross_entropy(logits, targets)\n",
    "            \n",
    "        return logits, loss\n",
    "\n",
    "    \n",
    "    def generate(self, index, max_new_tokens):\n",
    "        # index is (B,T) array of idices in the current context\n",
    "        for _ in range(max_new_tokens):\n",
    "            # get predictions\n",
    "            logits, loss = self.forward(index)\n",
    "            # focus only on the last time step\n",
    "            logits = logits[:, -1, :] # becomes (B,C)\n",
    "            # apply softmax to get probabilities\n",
    "            probs = F.softmax(logits, dim=-1) # (B,C)\n",
    "            # sample from distribution\n",
    "            index_next = torch.multinomial(probs, num_samples=1) # (B,1)\n",
    "            # append sampled index to running sequence\n",
    "            index = torch.cat((index, index_next), dim=1) # (B,T+1)\n",
    "            \n",
    "        return index"
   ]
  },
  {
   "cell_type": "code",
   "execution_count": 69,
   "id": "768a4823-53ea-4edc-948c-2b921c300dfe",
   "metadata": {},
   "outputs": [
    {
     "name": "stdout",
     "output_type": "stream",
     "text": [
      "\n",
      " ImhMUhxImkeUs*mwV.gFRk4pHF909*Mk:1Ws.(68kPhjemh2zqGwT;_:\n",
      "F94f)6mqkvXKDe.gz;2FQR],8k4gzp jew\")_Hdi\"*NTHJr3yRTs1BR&cH!﻿Uh;2_dWOv-u4HCqHOhuYh.9;ZH[uGrD?e)zB]zZAVb!8E.DE Io6J86_1e81RbvkvKw\n",
      "jNtgPX3sN;OB(I4NgLGF!-1\"ZcCmIN7l0jB6SSSIjA49;:z3I;-gpi uZALRBuGooaX)m9t!_3xVHajtz;qc3sPGpSmuEI'15U00E0!bvI4yZHVSDJr6olQ3s\n",
      "[tr\n",
      "U1ycU7wlQ\n",
      "U2JW*fW0C\n",
      "UJH5Yn\"vsCVzOhybSlY﻿;lHD0vQ2yL.ggsLW?di _T,jO]vk9!u*P518kuy4r.GUS,)1SDGF5kP2AwDC]LG7?3)7,klQLzB5kX2:jO(5I[8bpSm  -jNu\n",
      "8\n",
      "ZA!z7DmEl(Fg&9;G7)DpX5uZAwJpkBiA!,8E!q&kZHMp﻿XSS\n"
     ]
    }
   ],
   "source": [
    "model = BigramLanguageModel(vocab_size)\n",
    "m = model.to(device)\n",
    "\n",
    "context = torch.zeros((1,1), dtype=torch.long, device=device)\n",
    "generated_chars = decode(m.generate(context, max_new_tokens=500)[0].tolist())\n",
    "print(generated_chars)"
   ]
  },
  {
   "cell_type": "code",
   "execution_count": 74,
   "id": "96d49ca0-22ed-475d-8387-db2c16699f29",
   "metadata": {},
   "outputs": [
    {
     "name": "stdout",
     "output_type": "stream",
     "text": [
      "iter: 0, train loss: 2.6709, val loss: 2.6731\n",
      "iter: 250, train loss: 2.6171, val loss: 2.7046\n",
      "iter: 500, train loss: 2.6294, val loss: 2.6926\n",
      "iter: 750, train loss: 2.6249, val loss: 2.6527\n",
      "iter: 1000, train loss: 2.6292, val loss: 2.6700\n",
      "iter: 1250, train loss: 2.6318, val loss: 2.6682\n",
      "iter: 1500, train loss: 2.5891, val loss: 2.6514\n",
      "iter: 1750, train loss: 2.6006, val loss: 2.6650\n",
      "iter: 2000, train loss: 2.6154, val loss: 2.6276\n",
      "iter: 2250, train loss: 2.5879, val loss: 2.6215\n",
      "iter: 2500, train loss: 2.5975, val loss: 2.6233\n",
      "iter: 2750, train loss: 2.6031, val loss: 2.6256\n",
      "iter: 3000, train loss: 2.5770, val loss: 2.6200\n",
      "iter: 3250, train loss: 2.5859, val loss: 2.6176\n",
      "iter: 3500, train loss: 2.5786, val loss: 2.5953\n",
      "iter: 3750, train loss: 2.5976, val loss: 2.5858\n",
      "iter: 4000, train loss: 2.5986, val loss: 2.6100\n",
      "iter: 4250, train loss: 2.5875, val loss: 2.5999\n",
      "iter: 4500, train loss: 2.5689, val loss: 2.6133\n",
      "iter: 4750, train loss: 2.5708, val loss: 2.5772\n",
      "iter: 5000, train loss: 2.5863, val loss: 2.6110\n",
      "iter: 5250, train loss: 2.5593, val loss: 2.5889\n",
      "iter: 5500, train loss: 2.5454, val loss: 2.6032\n",
      "iter: 5750, train loss: 2.5390, val loss: 2.5941\n",
      "iter: 6000, train loss: 2.5577, val loss: 2.5959\n",
      "iter: 6250, train loss: 2.5454, val loss: 2.5995\n",
      "iter: 6500, train loss: 2.5621, val loss: 2.5774\n",
      "iter: 6750, train loss: 2.5344, val loss: 2.5613\n",
      "iter: 7000, train loss: 2.5281, val loss: 2.5911\n",
      "iter: 7250, train loss: 2.5499, val loss: 2.5734\n",
      "iter: 7500, train loss: 2.5193, val loss: 2.5568\n",
      "iter: 7750, train loss: 2.5203, val loss: 2.5855\n",
      "iter: 8000, train loss: 2.5412, val loss: 2.5545\n",
      "iter: 8250, train loss: 2.5244, val loss: 2.5667\n",
      "iter: 8500, train loss: 2.5302, val loss: 2.5574\n",
      "iter: 8750, train loss: 2.5384, val loss: 2.5645\n",
      "iter: 9000, train loss: 2.5300, val loss: 2.5698\n",
      "iter: 9250, train loss: 2.5177, val loss: 2.5504\n",
      "iter: 9500, train loss: 2.5180, val loss: 2.5782\n",
      "iter: 9750, train loss: 2.5101, val loss: 2.5625\n",
      "2.7033379077911377\n"
     ]
    }
   ],
   "source": [
    "# create optimizer\n",
    "optimizer = torch.optim.AdamW(model.parameters(), lr=learning_rate)\n",
    "\n",
    "# training loop\n",
    "for iter in range(max_iters):\n",
    "    if iter % eval_iters == 0:\n",
    "        losses = estimate_loss()\n",
    "        print(f\"iter: {iter}, train loss: {losses['train']:.4f}, val loss: {losses['val']:.4f}\")\n",
    "    # sample batch of data\n",
    "    xb, yb =  get_batch(\"train\")\n",
    "\n",
    "    #evaluate the loss\n",
    "    logits, loss = model.forward(xb, yb)\n",
    "    optimizer.zero_grad(set_to_none=True)\n",
    "    loss.backward()\n",
    "    optimizer.step()\n",
    "print(loss.item())"
   ]
  },
  {
   "cell_type": "code",
   "execution_count": 75,
   "id": "de0cb5ad-b5c5-467a-9a9a-ab4626c17513",
   "metadata": {},
   "outputs": [
    {
     "name": "stdout",
     "output_type": "stream",
     "text": [
      "\n",
      "\n",
      "e Wibyhanirere r kPDEE gheayof them tcoorie as E t, oany ainghe\n",
      "PQSS9zAhamerg houshein wout thes folinoy atin\n",
      "lllemy in a s kncphowarond Ther ckelvetis;the  doyitt\n",
      "\n",
      "\n",
      "ED. rss in bal WS?? pXHidins shar, s, ttorereseroshotut bed  wid tror tisthem,\"\n",
      "The't o ilkit g ckiather   baimeabe, PZf previsurk4x:t, beef(﻿er, thas enofl ing\n",
      "\"\n",
      "g'0_umet theys O]bethe aie ave the ckyerer.wacathedngh aithere t thetofyre a thast  thy f sp;NJis ouly I hellRo ore he im?e twh.\n",
      "A7D\n",
      "\n",
      "qRd\n",
      "BHLT.\"\n",
      "WqqL'van,, atondver he th\n"
     ]
    }
   ],
   "source": [
    "context = torch.zeros((1,1), dtype=torch.long, device=device)\n",
    "generated_chars = decode(m.generate(context, max_new_tokens=500)[0].tolist())\n",
    "print(generated_chars)"
   ]
  },
  {
   "cell_type": "code",
   "execution_count": null,
   "id": "9558ecf8-3e48-4328-8368-f47d65ac265a",
   "metadata": {},
   "outputs": [],
   "source": []
  }
 ],
 "metadata": {
  "kernelspec": {
   "display_name": "Python 3 (ipykernel)",
   "language": "python",
   "name": "python3"
  },
  "language_info": {
   "codemirror_mode": {
    "name": "ipython",
    "version": 3
   },
   "file_extension": ".py",
   "mimetype": "text/x-python",
   "name": "python",
   "nbconvert_exporter": "python",
   "pygments_lexer": "ipython3",
   "version": "3.10.6"
  }
 },
 "nbformat": 4,
 "nbformat_minor": 5
}
